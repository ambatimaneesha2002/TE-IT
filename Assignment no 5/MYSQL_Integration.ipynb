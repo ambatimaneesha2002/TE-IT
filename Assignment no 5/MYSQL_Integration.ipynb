{
 "cells": [
  {
   "cell_type": "code",
   "execution_count": 1,
   "id": "930248d2",
   "metadata": {},
   "outputs": [],
   "source": [
    "# pip install mysql-connector-python"
   ]
  },
  {
   "cell_type": "code",
   "execution_count": 5,
   "id": "4cab4077",
   "metadata": {},
   "outputs": [],
   "source": [
    "import mysql.connector"
   ]
  },
  {
   "cell_type": "code",
   "execution_count": 6,
   "id": "0e117ed8",
   "metadata": {},
   "outputs": [],
   "source": [
    "db_config = {\n",
    "    'user': 'root',           \n",
    "    'password': 'root',       # password for mysql\n",
    "    'host': 'localhost',\n",
    "    'database':'mydatabase'   # database name\n",
    "}\n"
   ]
  },
  {
   "cell_type": "code",
   "execution_count": 8,
   "id": "786ceffa",
   "metadata": {},
   "outputs": [],
   "source": [
    "connection = mysql.connector.connect(**db_config)\n",
    "# create a connection object"
   ]
  },
  {
   "cell_type": "code",
   "execution_count": 5,
   "id": "e586cbcb",
   "metadata": {},
   "outputs": [],
   "source": [
    "# creating cursor\n",
    "'''\n",
    "a cursor is a mechanism that enables you to traverse the records \n",
    "in a database result set. It acts as a pointer or an iterator that \n",
    "allows you to move through the rows of a query result and manipulate \n",
    "the data.\n",
    "'''\n",
    "cursor = connection.cursor()"
   ]
  },
  {
   "cell_type": "code",
   "execution_count": 6,
   "id": "b4570170",
   "metadata": {},
   "outputs": [],
   "source": [
    "insert_query = \"insert into users(username,email) values (%s,%s)\""
   ]
  },
  {
   "cell_type": "code",
   "execution_count": 7,
   "id": "832d87b3",
   "metadata": {},
   "outputs": [],
   "source": [
    "users_data = [\n",
    "    ('akash', 'akash@xyz.com'),\n",
    "    ('raj', 'raj@xyz.com')\n",
    "]"
   ]
  },
  {
   "cell_type": "code",
   "execution_count": 8,
   "id": "254597eb",
   "metadata": {},
   "outputs": [],
   "source": [
    "# execution\n",
    "cursor.executemany(insert_query, users_data)"
   ]
  },
  {
   "cell_type": "code",
   "execution_count": 9,
   "id": "46fb387a",
   "metadata": {},
   "outputs": [],
   "source": [
    "# commiting the changes\n",
    "connection.commit()"
   ]
  },
  {
   "cell_type": "code",
   "execution_count": 10,
   "id": "f4e96b89",
   "metadata": {},
   "outputs": [],
   "source": [
    "cursor.execute(\"select * from users\")"
   ]
  },
  {
   "cell_type": "code",
   "execution_count": 11,
   "id": "61dd9bb6",
   "metadata": {},
   "outputs": [
    {
     "data": {
      "text/plain": [
       "[(1, 'john_doe', 'john@example.com'),\n",
       " (2, 'aditya', 'aditya@xyz.com'),\n",
       " (3, 'akash', 'akash@xyz.com'),\n",
       " (4, 'raj', 'raj@xyz.com')]"
      ]
     },
     "execution_count": 11,
     "metadata": {},
     "output_type": "execute_result"
    }
   ],
   "source": [
    "# getting the result from cursor\n",
    "result = cursor.fetchall()\n",
    "result"
   ]
  },
  {
   "cell_type": "code",
   "execution_count": 12,
   "id": "edb63463",
   "metadata": {},
   "outputs": [],
   "source": [
    "# need to close the connection manually\n",
    "cursor.close()\n",
    "connection.close()"
   ]
  },
  {
   "cell_type": "code",
   "execution_count": null,
   "id": "66e30b00",
   "metadata": {},
   "outputs": [],
   "source": []
  }
 ],
 "metadata": {
  "kernelspec": {
   "display_name": "Python 3 (ipykernel)",
   "language": "python",
   "name": "python3"
  },
  "language_info": {
   "codemirror_mode": {
    "name": "ipython",
    "version": 3
   },
   "file_extension": ".py",
   "mimetype": "text/x-python",
   "name": "python",
   "nbconvert_exporter": "python",
   "pygments_lexer": "ipython3",
   "version": "3.11.5"
  }
 },
 "nbformat": 4,
 "nbformat_minor": 5
}
